{
 "cells": [
  {
   "cell_type": "markdown",
   "id": "fb12fb64",
   "metadata": {},
   "source": [
    "# DATA SCIENCE PROJECT \n",
    "BY CHARGE EDU-TECH \n",
    "\n",
    "DONE BY MANISHA SHARMA \n",
    "\n",
    "PROJECT 1 ---- FAKE NEWS DETECTION USING PYTHON\n",
    "\n",
    "Fake news do not require any introduction. \n",
    "It is very much easy to spread all the fake information in today’s all-connected \n",
    "world across the internet. Fake news is sometimes transmitted through the \n",
    "internet by some unauthorised sources, which creates issues for the targeted \n",
    "person and it makes them panic and leads to even violence. \n",
    "To combat the spread of fake news, it’s critical to determine the information’s \n",
    "legitimacy, which this Data Science project can help with. To do so, Python can \n",
    "be used, and a model is created using TfidfVectorizer. Passive Aggressive\n",
    "Classifier can be implemented to distinguish between true and fake news. \n",
    "Pandas, NumPy, and sci-kit-learn are some Python packages suitable for this \n",
    "project, and we can utilize News.csv for the dataset.\n",
    "    \n"
   ]
  },
  {
   "cell_type": "markdown",
   "id": "39825835",
   "metadata": {},
   "source": [
    "# Fake News Detection Model using TensorFlow in Python"
   ]
  },
  {
   "cell_type": "markdown",
   "id": "34373804",
   "metadata": {},
   "source": [
    "using fake_news_dataset, which contains News text and corresponding label (FAKE or REAL).\n",
    "\n",
    "Dataset can be downloaded from this link : using fake_news_dataset, which contains News text and corresponding label (FAKE or REAL). \n",
    "\n",
    "Dataset can be downloaded from this link ('news.csv')\n"
   ]
  },
  {
   "cell_type": "markdown",
   "id": "e5c95e2e",
   "metadata": {},
   "source": [
    "# The steps to be followed are : "
   ]
  },
  {
   "cell_type": "markdown",
   "id": "43388802",
   "metadata": {},
   "source": [
    "1. Importing Libraries and dataset\n",
    "2. Preprocessing Dataset\n",
    "3. Generating Word Embeddings\n",
    "4. Model Architecture\n",
    "5. Model Evaluation and Prediction"
   ]
  },
  {
   "cell_type": "markdown",
   "id": "31e1f667",
   "metadata": {},
   "source": [
    "# Importing Libraries and Dataset"
   ]
  },
  {
   "cell_type": "raw",
   "id": "9edca7e2",
   "metadata": {},
   "source": [
    "The libraries we will be using are :\n",
    "\n",
    "- NumPy: To perform different mathematical functions. \n",
    "- Pandas: To load dataset.\n",
    "- Tensorflow: To preprocessing the data and to create the model.\n",
    "- SkLearn: For train-test split and to import the modules for model evaluation."
   ]
  },
  {
   "cell_type": "code",
   "execution_count": 1,
   "id": "97799227",
   "metadata": {},
   "outputs": [
    {
     "name": "stdout",
     "output_type": "stream",
     "text": [
      "Requirement already satisfied: tensorflow in c:\\users\\lenovo\\anaconda3\\lib\\site-packages (2.12.0)\n",
      "Requirement already satisfied: tensorflow-intel==2.12.0 in c:\\users\\lenovo\\anaconda3\\lib\\site-packages (from tensorflow) (2.12.0)\n",
      "Requirement already satisfied: flatbuffers>=2.0 in c:\\users\\lenovo\\anaconda3\\lib\\site-packages (from tensorflow-intel==2.12.0->tensorflow) (23.5.9)\n",
      "Requirement already satisfied: gast<=0.4.0,>=0.2.1 in c:\\users\\lenovo\\anaconda3\\lib\\site-packages (from tensorflow-intel==2.12.0->tensorflow) (0.4.0)\n",
      "Requirement already satisfied: astunparse>=1.6.0 in c:\\users\\lenovo\\anaconda3\\lib\\site-packages (from tensorflow-intel==2.12.0->tensorflow) (1.6.3)\n",
      "Requirement already satisfied: google-pasta>=0.1.1 in c:\\users\\lenovo\\anaconda3\\lib\\site-packages (from tensorflow-intel==2.12.0->tensorflow) (0.2.0)\n",
      "Requirement already satisfied: setuptools in c:\\users\\lenovo\\anaconda3\\lib\\site-packages (from tensorflow-intel==2.12.0->tensorflow) (65.6.3)\n",
      "Requirement already satisfied: jax>=0.3.15 in c:\\users\\lenovo\\anaconda3\\lib\\site-packages (from tensorflow-intel==2.12.0->tensorflow) (0.4.10)\n",
      "Requirement already satisfied: tensorflow-io-gcs-filesystem>=0.23.1 in c:\\users\\lenovo\\anaconda3\\lib\\site-packages (from tensorflow-intel==2.12.0->tensorflow) (0.31.0)\n",
      "Requirement already satisfied: protobuf!=4.21.0,!=4.21.1,!=4.21.2,!=4.21.3,!=4.21.4,!=4.21.5,<5.0.0dev,>=3.20.3 in c:\\users\\lenovo\\anaconda3\\lib\\site-packages (from tensorflow-intel==2.12.0->tensorflow) (4.23.1)\n",
      "Requirement already satisfied: six>=1.12.0 in c:\\users\\lenovo\\anaconda3\\lib\\site-packages (from tensorflow-intel==2.12.0->tensorflow) (1.16.0)\n",
      "Requirement already satisfied: typing-extensions>=3.6.6 in c:\\users\\lenovo\\anaconda3\\lib\\site-packages (from tensorflow-intel==2.12.0->tensorflow) (4.4.0)\n",
      "Requirement already satisfied: tensorboard<2.13,>=2.12 in c:\\users\\lenovo\\anaconda3\\lib\\site-packages (from tensorflow-intel==2.12.0->tensorflow) (2.12.3)\n",
      "Requirement already satisfied: opt-einsum>=2.3.2 in c:\\users\\lenovo\\anaconda3\\lib\\site-packages (from tensorflow-intel==2.12.0->tensorflow) (3.3.0)\n",
      "Requirement already satisfied: termcolor>=1.1.0 in c:\\users\\lenovo\\anaconda3\\lib\\site-packages (from tensorflow-intel==2.12.0->tensorflow) (2.3.0)\n",
      "Requirement already satisfied: packaging in c:\\users\\lenovo\\anaconda3\\lib\\site-packages (from tensorflow-intel==2.12.0->tensorflow) (22.0)\n",
      "Requirement already satisfied: wrapt<1.15,>=1.11.0 in c:\\users\\lenovo\\anaconda3\\lib\\site-packages (from tensorflow-intel==2.12.0->tensorflow) (1.14.1)\n",
      "Requirement already satisfied: tensorflow-estimator<2.13,>=2.12.0 in c:\\users\\lenovo\\anaconda3\\lib\\site-packages (from tensorflow-intel==2.12.0->tensorflow) (2.12.0)\n",
      "Requirement already satisfied: h5py>=2.9.0 in c:\\users\\lenovo\\anaconda3\\lib\\site-packages (from tensorflow-intel==2.12.0->tensorflow) (3.7.0)\n",
      "Requirement already satisfied: keras<2.13,>=2.12.0 in c:\\users\\lenovo\\anaconda3\\lib\\site-packages (from tensorflow-intel==2.12.0->tensorflow) (2.12.0)\n",
      "Requirement already satisfied: grpcio<2.0,>=1.24.3 in c:\\users\\lenovo\\anaconda3\\lib\\site-packages (from tensorflow-intel==2.12.0->tensorflow) (1.54.2)\n",
      "Requirement already satisfied: libclang>=13.0.0 in c:\\users\\lenovo\\anaconda3\\lib\\site-packages (from tensorflow-intel==2.12.0->tensorflow) (16.0.0)\n",
      "Requirement already satisfied: absl-py>=1.0.0 in c:\\users\\lenovo\\anaconda3\\lib\\site-packages (from tensorflow-intel==2.12.0->tensorflow) (1.4.0)\n",
      "Requirement already satisfied: numpy<1.24,>=1.22 in c:\\users\\lenovo\\anaconda3\\lib\\site-packages (from tensorflow-intel==2.12.0->tensorflow) (1.23.5)\n",
      "Requirement already satisfied: wheel<1.0,>=0.23.0 in c:\\users\\lenovo\\anaconda3\\lib\\site-packages (from astunparse>=1.6.0->tensorflow-intel==2.12.0->tensorflow) (0.38.4)\n",
      "Requirement already satisfied: scipy>=1.7 in c:\\users\\lenovo\\anaconda3\\lib\\site-packages (from jax>=0.3.15->tensorflow-intel==2.12.0->tensorflow) (1.10.0)\n",
      "Requirement already satisfied: ml-dtypes>=0.1.0 in c:\\users\\lenovo\\anaconda3\\lib\\site-packages (from jax>=0.3.15->tensorflow-intel==2.12.0->tensorflow) (0.1.0)\n",
      "Requirement already satisfied: requests<3,>=2.21.0 in c:\\users\\lenovo\\anaconda3\\lib\\site-packages (from tensorboard<2.13,>=2.12->tensorflow-intel==2.12.0->tensorflow) (2.28.1)\n",
      "Requirement already satisfied: google-auth-oauthlib<1.1,>=0.5 in c:\\users\\lenovo\\anaconda3\\lib\\site-packages (from tensorboard<2.13,>=2.12->tensorflow-intel==2.12.0->tensorflow) (1.0.0)\n",
      "Requirement already satisfied: markdown>=2.6.8 in c:\\users\\lenovo\\anaconda3\\lib\\site-packages (from tensorboard<2.13,>=2.12->tensorflow-intel==2.12.0->tensorflow) (3.4.1)\n",
      "Requirement already satisfied: werkzeug>=1.0.1 in c:\\users\\lenovo\\anaconda3\\lib\\site-packages (from tensorboard<2.13,>=2.12->tensorflow-intel==2.12.0->tensorflow) (2.2.2)\n",
      "Requirement already satisfied: google-auth<3,>=1.6.3 in c:\\users\\lenovo\\anaconda3\\lib\\site-packages (from tensorboard<2.13,>=2.12->tensorflow-intel==2.12.0->tensorflow) (2.18.1)\n",
      "Requirement already satisfied: tensorboard-data-server<0.8.0,>=0.7.0 in c:\\users\\lenovo\\anaconda3\\lib\\site-packages (from tensorboard<2.13,>=2.12->tensorflow-intel==2.12.0->tensorflow) (0.7.0)\n",
      "Requirement already satisfied: rsa<5,>=3.1.4 in c:\\users\\lenovo\\anaconda3\\lib\\site-packages (from google-auth<3,>=1.6.3->tensorboard<2.13,>=2.12->tensorflow-intel==2.12.0->tensorflow) (4.9)\n",
      "Requirement already satisfied: pyasn1-modules>=0.2.1 in c:\\users\\lenovo\\anaconda3\\lib\\site-packages (from google-auth<3,>=1.6.3->tensorboard<2.13,>=2.12->tensorflow-intel==2.12.0->tensorflow) (0.2.8)\n",
      "Requirement already satisfied: urllib3<2.0 in c:\\users\\lenovo\\anaconda3\\lib\\site-packages (from google-auth<3,>=1.6.3->tensorboard<2.13,>=2.12->tensorflow-intel==2.12.0->tensorflow) (1.26.14)\n",
      "Requirement already satisfied: cachetools<6.0,>=2.0.0 in c:\\users\\lenovo\\anaconda3\\lib\\site-packages (from google-auth<3,>=1.6.3->tensorboard<2.13,>=2.12->tensorflow-intel==2.12.0->tensorflow) (5.3.0)\n",
      "Requirement already satisfied: requests-oauthlib>=0.7.0 in c:\\users\\lenovo\\anaconda3\\lib\\site-packages (from google-auth-oauthlib<1.1,>=0.5->tensorboard<2.13,>=2.12->tensorflow-intel==2.12.0->tensorflow) (1.3.1)\n",
      "Requirement already satisfied: idna<4,>=2.5 in c:\\users\\lenovo\\anaconda3\\lib\\site-packages (from requests<3,>=2.21.0->tensorboard<2.13,>=2.12->tensorflow-intel==2.12.0->tensorflow) (3.4)\n",
      "Requirement already satisfied: certifi>=2017.4.17 in c:\\users\\lenovo\\anaconda3\\lib\\site-packages (from requests<3,>=2.21.0->tensorboard<2.13,>=2.12->tensorflow-intel==2.12.0->tensorflow) (2022.12.7)\n",
      "Requirement already satisfied: charset-normalizer<3,>=2 in c:\\users\\lenovo\\anaconda3\\lib\\site-packages (from requests<3,>=2.21.0->tensorboard<2.13,>=2.12->tensorflow-intel==2.12.0->tensorflow) (2.0.4)\n",
      "Requirement already satisfied: MarkupSafe>=2.1.1 in c:\\users\\lenovo\\anaconda3\\lib\\site-packages (from werkzeug>=1.0.1->tensorboard<2.13,>=2.12->tensorflow-intel==2.12.0->tensorflow) (2.1.1)\n",
      "Requirement already satisfied: pyasn1<0.5.0,>=0.4.6 in c:\\users\\lenovo\\anaconda3\\lib\\site-packages (from pyasn1-modules>=0.2.1->google-auth<3,>=1.6.3->tensorboard<2.13,>=2.12->tensorflow-intel==2.12.0->tensorflow) (0.4.8)\n",
      "Requirement already satisfied: oauthlib>=3.0.0 in c:\\users\\lenovo\\anaconda3\\lib\\site-packages (from requests-oauthlib>=0.7.0->google-auth-oauthlib<1.1,>=0.5->tensorboard<2.13,>=2.12->tensorflow-intel==2.12.0->tensorflow) (3.2.2)\n",
      "Note: you may need to restart the kernel to use updated packages.\n"
     ]
    }
   ],
   "source": [
    "pip install tensorflow\n"
   ]
  },
  {
   "cell_type": "code",
   "execution_count": 2,
   "id": "b9ff33f1",
   "metadata": {},
   "outputs": [],
   "source": [
    "import numpy as np\n",
    "import pandas as pd\n",
    "import json\n",
    "import csv\n",
    "import random\n",
    "\n",
    "from tensorflow.keras.preprocessing.text import Tokenizer\n",
    "from tensorflow.keras.preprocessing.sequence import pad_sequences\n",
    "from tensorflow.keras.utils import to_categorical\n",
    "from tensorflow.keras import regularizers\n",
    "\n",
    "import pprint\n",
    "import tensorflow.compat.v1 as tf\n",
    "from tensorflow.python.framework import ops\n",
    "from sklearn.model_selection import train_test_split\n",
    "from sklearn import preprocessing\n",
    "tf.disable_eager_execution()\n"
   ]
  },
  {
   "cell_type": "code",
   "execution_count": 3,
   "id": "0dc722a1",
   "metadata": {},
   "outputs": [
    {
     "data": {
      "text/html": [
       "<div>\n",
       "<style scoped>\n",
       "    .dataframe tbody tr th:only-of-type {\n",
       "        vertical-align: middle;\n",
       "    }\n",
       "\n",
       "    .dataframe tbody tr th {\n",
       "        vertical-align: top;\n",
       "    }\n",
       "\n",
       "    .dataframe thead th {\n",
       "        text-align: right;\n",
       "    }\n",
       "</style>\n",
       "<table border=\"1\" class=\"dataframe\">\n",
       "  <thead>\n",
       "    <tr style=\"text-align: right;\">\n",
       "      <th></th>\n",
       "      <th>Unnamed: 0</th>\n",
       "      <th>title</th>\n",
       "      <th>text</th>\n",
       "      <th>label</th>\n",
       "    </tr>\n",
       "  </thead>\n",
       "  <tbody>\n",
       "    <tr>\n",
       "      <th>0</th>\n",
       "      <td>8476</td>\n",
       "      <td>You Can Smell Hillary’s Fear</td>\n",
       "      <td>Daniel Greenfield, a Shillman Journalism Fello...</td>\n",
       "      <td>FAKE</td>\n",
       "    </tr>\n",
       "    <tr>\n",
       "      <th>1</th>\n",
       "      <td>10294</td>\n",
       "      <td>Watch The Exact Moment Paul Ryan Committed Pol...</td>\n",
       "      <td>Google Pinterest Digg Linkedin Reddit Stumbleu...</td>\n",
       "      <td>FAKE</td>\n",
       "    </tr>\n",
       "    <tr>\n",
       "      <th>2</th>\n",
       "      <td>3608</td>\n",
       "      <td>Kerry to go to Paris in gesture of sympathy</td>\n",
       "      <td>U.S. Secretary of State John F. Kerry said Mon...</td>\n",
       "      <td>REAL</td>\n",
       "    </tr>\n",
       "    <tr>\n",
       "      <th>3</th>\n",
       "      <td>10142</td>\n",
       "      <td>Bernie supporters on Twitter erupt in anger ag...</td>\n",
       "      <td>— Kaydee King (@KaydeeKing) November 9, 2016 T...</td>\n",
       "      <td>FAKE</td>\n",
       "    </tr>\n",
       "    <tr>\n",
       "      <th>4</th>\n",
       "      <td>875</td>\n",
       "      <td>The Battle of New York: Why This Primary Matters</td>\n",
       "      <td>It's primary day in New York and front-runners...</td>\n",
       "      <td>REAL</td>\n",
       "    </tr>\n",
       "  </tbody>\n",
       "</table>\n",
       "</div>"
      ],
      "text/plain": [
       "   Unnamed: 0                                              title  \\\n",
       "0        8476                       You Can Smell Hillary’s Fear   \n",
       "1       10294  Watch The Exact Moment Paul Ryan Committed Pol...   \n",
       "2        3608        Kerry to go to Paris in gesture of sympathy   \n",
       "3       10142  Bernie supporters on Twitter erupt in anger ag...   \n",
       "4         875   The Battle of New York: Why This Primary Matters   \n",
       "\n",
       "                                                text label  \n",
       "0  Daniel Greenfield, a Shillman Journalism Fello...  FAKE  \n",
       "1  Google Pinterest Digg Linkedin Reddit Stumbleu...  FAKE  \n",
       "2  U.S. Secretary of State John F. Kerry said Mon...  REAL  \n",
       "3  — Kaydee King (@KaydeeKing) November 9, 2016 T...  FAKE  \n",
       "4  It's primary day in New York and front-runners...  REAL  "
      ]
     },
     "execution_count": 3,
     "metadata": {},
     "output_type": "execute_result"
    }
   ],
   "source": [
    "import numpy as np\n",
    "import pandas as pd\n",
    "\n",
    "# Reading the data\n",
    "data = pd.read_csv(\"C:/Users/Lenovo/Downloads/news (1).csv\")\n",
    "data.head()\n"
   ]
  },
  {
   "cell_type": "markdown",
   "id": "2290bf85",
   "metadata": {},
   "source": [
    "# Preprocessing Dataset"
   ]
  },
  {
   "cell_type": "markdown",
   "id": "299edbf1",
   "metadata": {},
   "source": [
    "we can see the dataset contains one unnamed column. So we drop that column from the dataset."
   ]
  },
  {
   "cell_type": "code",
   "execution_count": 4,
   "id": "d0a31c18",
   "metadata": {},
   "outputs": [
    {
     "data": {
      "text/html": [
       "<div>\n",
       "<style scoped>\n",
       "    .dataframe tbody tr th:only-of-type {\n",
       "        vertical-align: middle;\n",
       "    }\n",
       "\n",
       "    .dataframe tbody tr th {\n",
       "        vertical-align: top;\n",
       "    }\n",
       "\n",
       "    .dataframe thead th {\n",
       "        text-align: right;\n",
       "    }\n",
       "</style>\n",
       "<table border=\"1\" class=\"dataframe\">\n",
       "  <thead>\n",
       "    <tr style=\"text-align: right;\">\n",
       "      <th></th>\n",
       "      <th>title</th>\n",
       "      <th>text</th>\n",
       "      <th>label</th>\n",
       "    </tr>\n",
       "  </thead>\n",
       "  <tbody>\n",
       "    <tr>\n",
       "      <th>0</th>\n",
       "      <td>You Can Smell Hillary’s Fear</td>\n",
       "      <td>Daniel Greenfield, a Shillman Journalism Fello...</td>\n",
       "      <td>FAKE</td>\n",
       "    </tr>\n",
       "    <tr>\n",
       "      <th>1</th>\n",
       "      <td>Watch The Exact Moment Paul Ryan Committed Pol...</td>\n",
       "      <td>Google Pinterest Digg Linkedin Reddit Stumbleu...</td>\n",
       "      <td>FAKE</td>\n",
       "    </tr>\n",
       "    <tr>\n",
       "      <th>2</th>\n",
       "      <td>Kerry to go to Paris in gesture of sympathy</td>\n",
       "      <td>U.S. Secretary of State John F. Kerry said Mon...</td>\n",
       "      <td>REAL</td>\n",
       "    </tr>\n",
       "    <tr>\n",
       "      <th>3</th>\n",
       "      <td>Bernie supporters on Twitter erupt in anger ag...</td>\n",
       "      <td>— Kaydee King (@KaydeeKing) November 9, 2016 T...</td>\n",
       "      <td>FAKE</td>\n",
       "    </tr>\n",
       "    <tr>\n",
       "      <th>4</th>\n",
       "      <td>The Battle of New York: Why This Primary Matters</td>\n",
       "      <td>It's primary day in New York and front-runners...</td>\n",
       "      <td>REAL</td>\n",
       "    </tr>\n",
       "  </tbody>\n",
       "</table>\n",
       "</div>"
      ],
      "text/plain": [
       "                                               title  \\\n",
       "0                       You Can Smell Hillary’s Fear   \n",
       "1  Watch The Exact Moment Paul Ryan Committed Pol...   \n",
       "2        Kerry to go to Paris in gesture of sympathy   \n",
       "3  Bernie supporters on Twitter erupt in anger ag...   \n",
       "4   The Battle of New York: Why This Primary Matters   \n",
       "\n",
       "                                                text label  \n",
       "0  Daniel Greenfield, a Shillman Journalism Fello...  FAKE  \n",
       "1  Google Pinterest Digg Linkedin Reddit Stumbleu...  FAKE  \n",
       "2  U.S. Secretary of State John F. Kerry said Mon...  REAL  \n",
       "3  — Kaydee King (@KaydeeKing) November 9, 2016 T...  FAKE  \n",
       "4  It's primary day in New York and front-runners...  REAL  "
      ]
     },
     "execution_count": 4,
     "metadata": {},
     "output_type": "execute_result"
    }
   ],
   "source": [
    "data = data.drop([\"Unnamed: 0\"], axis=1)\n",
    "data.head(5)"
   ]
  },
  {
   "cell_type": "markdown",
   "id": "c2ede2bd",
   "metadata": {},
   "source": [
    "# Data Encoding"
   ]
  },
  {
   "cell_type": "markdown",
   "id": "ec41accd",
   "metadata": {},
   "source": [
    "It converts the categorical column (label in out case) into numerical values."
   ]
  },
  {
   "cell_type": "code",
   "execution_count": 5,
   "id": "2cadce02",
   "metadata": {},
   "outputs": [],
   "source": [
    "# encoding the labels\n",
    "le = preprocessing.LabelEncoder()\n",
    "le.fit(data['label'])\n",
    "data['label'] = le.transform(data['label'])"
   ]
  },
  {
   "cell_type": "markdown",
   "id": "e0c5cab3",
   "metadata": {},
   "source": [
    "These are some variables required for the model training."
   ]
  },
  {
   "cell_type": "code",
   "execution_count": 6,
   "id": "bca90e9b",
   "metadata": {},
   "outputs": [],
   "source": [
    "embedding_dim = 50\n",
    "max_length = 54\n",
    "trunc_type = 'post'\n",
    "padding_type = 'post'\n",
    "oov_tok = \"<OOV>\"\n",
    "training_size = 3000\n",
    "test_portion = .1"
   ]
  },
  {
   "cell_type": "markdown",
   "id": "19671b8e",
   "metadata": {},
   "source": [
    "# Tokenization "
   ]
  },
  {
   "cell_type": "markdown",
   "id": "d0e002be",
   "metadata": {},
   "source": [
    "This process divides a large piece of continuous text into distinct units or tokens basically. Here we use columns separately for a temporal basis as a pipeline just for good accuracy."
   ]
  },
  {
   "cell_type": "code",
   "execution_count": 7,
   "id": "d5d27674",
   "metadata": {},
   "outputs": [],
   "source": [
    "title = []\n",
    "text = []\n",
    "labels = []\n",
    "for x in range(training_size):\n",
    "\ttitle.append(data['title'][x])\n",
    "\ttext.append(data['text'][x])\n",
    "\tlabels.append(data['label'][x])"
   ]
  },
  {
   "cell_type": "markdown",
   "id": "fb42a94f",
   "metadata": {},
   "source": [
    "Applying Tokenization"
   ]
  },
  {
   "cell_type": "code",
   "execution_count": 8,
   "id": "8373b76d",
   "metadata": {},
   "outputs": [],
   "source": [
    "tokenizer1 = Tokenizer()\n",
    "tokenizer1.fit_on_texts(title)\n",
    "word_index1 = tokenizer1.word_index\n",
    "vocab_size1 = len(word_index1)\n",
    "sequences1 = tokenizer1.texts_to_sequences(title)\n",
    "padded1 = pad_sequences(\n",
    "\tsequences1, padding=padding_type, truncating=trunc_type)\n",
    "split = int(test_portion * training_size)\n",
    "training_sequences1 = padded1[split:training_size]\n",
    "test_sequences1 = padded1[0:split]\n",
    "test_labels = labels[0:split]\n",
    "training_labels = labels[split:training_size]"
   ]
  },
  {
   "cell_type": "markdown",
   "id": "887c9ed0",
   "metadata": {},
   "source": [
    "# Generating Word Embedding"
   ]
  },
  {
   "cell_type": "markdown",
   "id": "661aa6ee",
   "metadata": {},
   "source": [
    "It allows words with similar meanings to have a similar representation. \n",
    "Here each individual word is represented as real-valued vectors in a predefined vector space.\n",
    "For that we will use glove.6B.50d.txt. \n",
    "It has the predefined vector space for words. \n",
    "You can download the file using this link."
   ]
  },
  {
   "cell_type": "code",
   "execution_count": 9,
   "id": "89fc2492",
   "metadata": {},
   "outputs": [],
   "source": [
    "embeddings_index = {}\n",
    "with open('C://Users//Lenovo//Downloads//glove.6B.50d.txt', encoding='utf-8') as f:\n",
    "    for line in f:\n",
    "        values = line.split()\n",
    "        word = values[0]\n",
    "        coefs = np.asarray(values[1:], dtype='float32')\n",
    "        embeddings_index[word] = coefs\n",
    "\n",
    "# Generating embeddings\n",
    "embeddings_matrix = np.zeros((vocab_size1 + 1, embedding_dim))\n",
    "for word, i in word_index1.items():\n",
    "    embedding_vector = embeddings_index.get(word)\n",
    "    if embedding_vector is not None:\n",
    "        embeddings_matrix[i] = embedding_vector\n"
   ]
  },
  {
   "cell_type": "markdown",
   "id": "77cac5c7",
   "metadata": {},
   "source": [
    "# Creating Model Architecture"
   ]
  },
  {
   "cell_type": "markdown",
   "id": "bfb15f10",
   "metadata": {},
   "source": [
    "Now it’s time to introduce TensorFlow to create the model. \n",
    "Here we use the TensorFlow embedding technique with Keras Embedding Layer where we map original input data into some set of real-valued dimensions."
   ]
  },
  {
   "cell_type": "code",
   "execution_count": 10,
   "id": "b4630e39",
   "metadata": {},
   "outputs": [
    {
     "name": "stdout",
     "output_type": "stream",
     "text": [
      "Model: \"sequential\"\n",
      "_________________________________________________________________\n",
      " Layer (type)                Output Shape              Param #   \n",
      "=================================================================\n",
      " embedding (Embedding)       (None, 54, 50)            377600    \n",
      "                                                                 \n",
      " dropout (Dropout)           (None, 54, 50)            0         \n",
      "                                                                 \n",
      " conv1d (Conv1D)             (None, 50, 64)            16064     \n",
      "                                                                 \n",
      " max_pooling1d (MaxPooling1D  (None, 12, 64)           0         \n",
      " )                                                               \n",
      "                                                                 \n",
      " lstm (LSTM)                 (None, 64)                33024     \n",
      "                                                                 \n",
      " dense (Dense)               (None, 1)                 65        \n",
      "                                                                 \n",
      "=================================================================\n",
      "Total params: 426,753\n",
      "Trainable params: 49,153\n",
      "Non-trainable params: 377,600\n",
      "_________________________________________________________________\n"
     ]
    }
   ],
   "source": [
    "model = tf.keras.Sequential([\n",
    "\ttf.keras.layers.Embedding(vocab_size1+1, embedding_dim,\n",
    "\t\t\t\t\t\t\tinput_length=max_length, weights=[\n",
    "\t\t\t\t\t\t\t\tembeddings_matrix],\n",
    "\t\t\t\t\t\t\ttrainable=False),\n",
    "\ttf.keras.layers.Dropout(0.2),\n",
    "\ttf.keras.layers.Conv1D(64, 5, activation='relu'),\n",
    "\ttf.keras.layers.MaxPooling1D(pool_size=4),\n",
    "\ttf.keras.layers.LSTM(64),\n",
    "\ttf.keras.layers.Dense(1, activation='sigmoid')\n",
    "])\n",
    "model.compile(loss='binary_crossentropy',\n",
    "\t\t\toptimizer='adam', metrics=['accuracy'])\n",
    "model.summary()\n"
   ]
  },
  {
   "cell_type": "code",
   "execution_count": 11,
   "id": "e972f625",
   "metadata": {},
   "outputs": [
    {
     "name": "stdout",
     "output_type": "stream",
     "text": [
      "Train on 2700 samples, validate on 300 samples\n",
      "Epoch 1/50\n"
     ]
    },
    {
     "name": "stderr",
     "output_type": "stream",
     "text": [
      "C:\\Users\\Lenovo\\anaconda3\\lib\\site-packages\\keras\\engine\\training_v1.py:2335: UserWarning: `Model.state_updates` will be removed in a future version. This property should not be used in TensorFlow 2.0, as `updates` are applied automatically.\n",
      "  updates = self.state_updates\n"
     ]
    },
    {
     "name": "stdout",
     "output_type": "stream",
     "text": [
      "2700/2700 - 3s - loss: 0.6379 - accuracy: 0.6219 - val_loss: 0.5610 - val_accuracy: 0.7033 - 3s/epoch - 1ms/sample\n",
      "Epoch 2/50\n",
      "2700/2700 - 2s - loss: 0.5803 - accuracy: 0.6989 - val_loss: 0.5722 - val_accuracy: 0.7000 - 2s/epoch - 735us/sample\n",
      "Epoch 3/50\n",
      "2700/2700 - 2s - loss: 0.5464 - accuracy: 0.7178 - val_loss: 0.5124 - val_accuracy: 0.7067 - 2s/epoch - 677us/sample\n",
      "Epoch 4/50\n",
      "2700/2700 - 2s - loss: 0.5025 - accuracy: 0.7515 - val_loss: 0.6038 - val_accuracy: 0.6867 - 2s/epoch - 705us/sample\n",
      "Epoch 5/50\n",
      "2700/2700 - 2s - loss: 0.4548 - accuracy: 0.7856 - val_loss: 0.5173 - val_accuracy: 0.7033 - 2s/epoch - 701us/sample\n",
      "Epoch 6/50\n",
      "2700/2700 - 2s - loss: 0.3808 - accuracy: 0.8344 - val_loss: 0.4860 - val_accuracy: 0.7667 - 2s/epoch - 695us/sample\n",
      "Epoch 7/50\n",
      "2700/2700 - 2s - loss: 0.3428 - accuracy: 0.8456 - val_loss: 0.4992 - val_accuracy: 0.7500 - 2s/epoch - 710us/sample\n",
      "Epoch 8/50\n",
      "2700/2700 - 2s - loss: 0.3237 - accuracy: 0.8537 - val_loss: 0.5067 - val_accuracy: 0.7600 - 2s/epoch - 687us/sample\n",
      "Epoch 9/50\n",
      "2700/2700 - 2s - loss: 0.2915 - accuracy: 0.8804 - val_loss: 0.5286 - val_accuracy: 0.7633 - 2s/epoch - 688us/sample\n",
      "Epoch 10/50\n",
      "2700/2700 - 2s - loss: 0.2430 - accuracy: 0.8993 - val_loss: 0.5621 - val_accuracy: 0.7433 - 2s/epoch - 708us/sample\n",
      "Epoch 11/50\n",
      "2700/2700 - 2s - loss: 0.2503 - accuracy: 0.8937 - val_loss: 0.5325 - val_accuracy: 0.7600 - 2s/epoch - 675us/sample\n",
      "Epoch 12/50\n",
      "2700/2700 - 2s - loss: 0.1898 - accuracy: 0.9281 - val_loss: 0.6556 - val_accuracy: 0.7533 - 2s/epoch - 687us/sample\n",
      "Epoch 13/50\n",
      "2700/2700 - 2s - loss: 0.1878 - accuracy: 0.9207 - val_loss: 0.6757 - val_accuracy: 0.7667 - 2s/epoch - 670us/sample\n",
      "Epoch 14/50\n",
      "2700/2700 - 2s - loss: 0.1903 - accuracy: 0.9219 - val_loss: 0.5635 - val_accuracy: 0.7700 - 2s/epoch - 711us/sample\n",
      "Epoch 15/50\n",
      "2700/2700 - 2s - loss: 0.1820 - accuracy: 0.9256 - val_loss: 0.6263 - val_accuracy: 0.7567 - 2s/epoch - 686us/sample\n",
      "Epoch 16/50\n",
      "2700/2700 - 2s - loss: 0.1876 - accuracy: 0.9222 - val_loss: 0.6010 - val_accuracy: 0.7867 - 2s/epoch - 716us/sample\n",
      "Epoch 17/50\n",
      "2700/2700 - 2s - loss: 0.1396 - accuracy: 0.9504 - val_loss: 0.7237 - val_accuracy: 0.7533 - 2s/epoch - 689us/sample\n",
      "Epoch 18/50\n",
      "2700/2700 - 2s - loss: 0.1644 - accuracy: 0.9359 - val_loss: 0.6842 - val_accuracy: 0.7767 - 2s/epoch - 728us/sample\n",
      "Epoch 19/50\n",
      "2700/2700 - 2s - loss: 0.1472 - accuracy: 0.9459 - val_loss: 0.7449 - val_accuracy: 0.7533 - 2s/epoch - 718us/sample\n",
      "Epoch 20/50\n",
      "2700/2700 - 2s - loss: 0.1158 - accuracy: 0.9526 - val_loss: 0.7917 - val_accuracy: 0.7400 - 2s/epoch - 686us/sample\n",
      "Epoch 21/50\n",
      "2700/2700 - 2s - loss: 0.1541 - accuracy: 0.9452 - val_loss: 0.6525 - val_accuracy: 0.7633 - 2s/epoch - 694us/sample\n",
      "Epoch 22/50\n",
      "2700/2700 - 2s - loss: 0.1434 - accuracy: 0.9415 - val_loss: 0.7056 - val_accuracy: 0.7467 - 2s/epoch - 710us/sample\n",
      "Epoch 23/50\n",
      "2700/2700 - 2s - loss: 0.1149 - accuracy: 0.9552 - val_loss: 0.8382 - val_accuracy: 0.7533 - 2s/epoch - 709us/sample\n",
      "Epoch 24/50\n",
      "2700/2700 - 2s - loss: 0.1101 - accuracy: 0.9607 - val_loss: 0.7049 - val_accuracy: 0.7400 - 2s/epoch - 689us/sample\n",
      "Epoch 25/50\n",
      "2700/2700 - 2s - loss: 0.1024 - accuracy: 0.9615 - val_loss: 0.8486 - val_accuracy: 0.7500 - 2s/epoch - 680us/sample\n",
      "Epoch 26/50\n",
      "2700/2700 - 2s - loss: 0.0976 - accuracy: 0.9652 - val_loss: 0.7455 - val_accuracy: 0.7633 - 2s/epoch - 703us/sample\n",
      "Epoch 27/50\n",
      "2700/2700 - 2s - loss: 0.1018 - accuracy: 0.9585 - val_loss: 0.7745 - val_accuracy: 0.7433 - 2s/epoch - 671us/sample\n",
      "Epoch 28/50\n",
      "2700/2700 - 2s - loss: 0.0938 - accuracy: 0.9644 - val_loss: 0.7122 - val_accuracy: 0.7600 - 2s/epoch - 684us/sample\n",
      "Epoch 29/50\n",
      "2700/2700 - 2s - loss: 0.0904 - accuracy: 0.9637 - val_loss: 0.8279 - val_accuracy: 0.7367 - 2s/epoch - 651us/sample\n",
      "Epoch 30/50\n",
      "2700/2700 - 2s - loss: 0.0790 - accuracy: 0.9744 - val_loss: 0.8330 - val_accuracy: 0.7633 - 2s/epoch - 660us/sample\n",
      "Epoch 31/50\n",
      "2700/2700 - 2s - loss: 0.0812 - accuracy: 0.9700 - val_loss: 0.7735 - val_accuracy: 0.7600 - 2s/epoch - 678us/sample\n",
      "Epoch 32/50\n",
      "2700/2700 - 2s - loss: 0.0883 - accuracy: 0.9659 - val_loss: 0.8353 - val_accuracy: 0.7300 - 2s/epoch - 667us/sample\n",
      "Epoch 33/50\n",
      "2700/2700 - 2s - loss: 0.0811 - accuracy: 0.9704 - val_loss: 0.7900 - val_accuracy: 0.7300 - 2s/epoch - 654us/sample\n",
      "Epoch 34/50\n",
      "2700/2700 - 2s - loss: 0.0983 - accuracy: 0.9596 - val_loss: 0.8616 - val_accuracy: 0.7533 - 2s/epoch - 663us/sample\n",
      "Epoch 35/50\n",
      "2700/2700 - 2s - loss: 0.0708 - accuracy: 0.9704 - val_loss: 0.9718 - val_accuracy: 0.7433 - 2s/epoch - 657us/sample\n",
      "Epoch 36/50\n",
      "2700/2700 - 2s - loss: 0.0842 - accuracy: 0.9689 - val_loss: 0.8635 - val_accuracy: 0.7400 - 2s/epoch - 713us/sample\n",
      "Epoch 37/50\n",
      "2700/2700 - 2s - loss: 0.0696 - accuracy: 0.9778 - val_loss: 0.9371 - val_accuracy: 0.7500 - 2s/epoch - 686us/sample\n",
      "Epoch 38/50\n",
      "2700/2700 - 2s - loss: 0.0818 - accuracy: 0.9715 - val_loss: 0.8531 - val_accuracy: 0.7500 - 2s/epoch - 694us/sample\n",
      "Epoch 39/50\n",
      "2700/2700 - 2s - loss: 0.0674 - accuracy: 0.9759 - val_loss: 0.8102 - val_accuracy: 0.7367 - 2s/epoch - 733us/sample\n",
      "Epoch 40/50\n",
      "2700/2700 - 2s - loss: 0.0681 - accuracy: 0.9767 - val_loss: 0.8562 - val_accuracy: 0.7333 - 2s/epoch - 670us/sample\n",
      "Epoch 41/50\n",
      "2700/2700 - 2s - loss: 0.0775 - accuracy: 0.9678 - val_loss: 0.8252 - val_accuracy: 0.7533 - 2s/epoch - 722us/sample\n",
      "Epoch 42/50\n",
      "2700/2700 - 2s - loss: 0.0590 - accuracy: 0.9796 - val_loss: 0.9369 - val_accuracy: 0.7267 - 2s/epoch - 711us/sample\n",
      "Epoch 43/50\n",
      "2700/2700 - 2s - loss: 0.0609 - accuracy: 0.9759 - val_loss: 0.8803 - val_accuracy: 0.7400 - 2s/epoch - 674us/sample\n",
      "Epoch 44/50\n",
      "2700/2700 - 2s - loss: 0.0796 - accuracy: 0.9719 - val_loss: 0.7074 - val_accuracy: 0.7333 - 2s/epoch - 686us/sample\n",
      "Epoch 45/50\n",
      "2700/2700 - 2s - loss: 0.0578 - accuracy: 0.9807 - val_loss: 0.8327 - val_accuracy: 0.7267 - 2s/epoch - 703us/sample\n",
      "Epoch 46/50\n",
      "2700/2700 - 2s - loss: 0.0652 - accuracy: 0.9756 - val_loss: 0.9081 - val_accuracy: 0.7300 - 2s/epoch - 705us/sample\n",
      "Epoch 47/50\n",
      "2700/2700 - 2s - loss: 0.0733 - accuracy: 0.9719 - val_loss: 0.8793 - val_accuracy: 0.7533 - 2s/epoch - 666us/sample\n",
      "Epoch 48/50\n",
      "2700/2700 - 2s - loss: 0.0603 - accuracy: 0.9774 - val_loss: 0.8758 - val_accuracy: 0.7700 - 2s/epoch - 669us/sample\n",
      "Epoch 49/50\n",
      "2700/2700 - 2s - loss: 0.0584 - accuracy: 0.9800 - val_loss: 0.7734 - val_accuracy: 0.7600 - 2s/epoch - 660us/sample\n",
      "Epoch 50/50\n",
      "2700/2700 - 2s - loss: 0.0549 - accuracy: 0.9822 - val_loss: 0.9005 - val_accuracy: 0.7633 - 2s/epoch - 664us/sample\n"
     ]
    }
   ],
   "source": [
    "num_epochs = 50\n",
    "\n",
    "training_padded = np.array(training_sequences1)\n",
    "training_labels = np.array(training_labels)\n",
    "testing_padded = np.array(test_sequences1)\n",
    "testing_labels = np.array(test_labels)\n",
    "\n",
    "history = model.fit(training_padded, training_labels,\n",
    "\t\t\t\t\tepochs=num_epochs,\n",
    "\t\t\t\t\tvalidation_data=(testing_padded,\n",
    "\t\t\t\t\t\t\t\t\ttesting_labels),\n",
    "\t\t\t\t\tverbose=2)\n"
   ]
  },
  {
   "cell_type": "markdown",
   "id": "4b463ad1",
   "metadata": {},
   "source": [
    "# Model Evaluation and Prediction"
   ]
  },
  {
   "cell_type": "markdown",
   "id": "cc10d6be",
   "metadata": {},
   "source": [
    "Now, the detection model is built using TensorFlow. Now we will try to test the model by using some news text by predicting whether it is true or false."
   ]
  },
  {
   "cell_type": "code",
   "execution_count": 12,
   "id": "7c08ad55",
   "metadata": {},
   "outputs": [
    {
     "name": "stderr",
     "output_type": "stream",
     "text": [
      "C:\\Users\\Lenovo\\anaconda3\\lib\\site-packages\\keras\\engine\\training_v1.py:2359: UserWarning: `Model.state_updates` will be removed in a future version. This property should not be used in TensorFlow 2.0, as `updates` are applied automatically.\n",
      "  updates=self.state_updates,\n"
     ]
    },
    {
     "name": "stdout",
     "output_type": "stream",
     "text": [
      "This news is false\n"
     ]
    }
   ],
   "source": [
    "# sample text to check if fake or not\n",
    "X = \"Karry to go to France in gesture of sympathy\"\n",
    "\n",
    "# detection\n",
    "sequences = tokenizer1.texts_to_sequences([X])[0]\n",
    "sequences = pad_sequences([sequences], maxlen=54,\n",
    "\t\t\t\t\t\tpadding=padding_type,\n",
    "\t\t\t\t\t\ttruncating=trunc_type)\n",
    "if(model.predict(sequences, verbose=0)[0][0] >= 0.5):\n",
    "\tprint(\"This news is True\")\n",
    "else:\n",
    "\tprint(\"This news is false\")\n"
   ]
  },
  {
   "cell_type": "code",
   "execution_count": null,
   "id": "6cfec48e",
   "metadata": {},
   "outputs": [],
   "source": []
  }
 ],
 "metadata": {
  "kernelspec": {
   "display_name": "Python 3 (ipykernel)",
   "language": "python",
   "name": "python3"
  },
  "language_info": {
   "codemirror_mode": {
    "name": "ipython",
    "version": 3
   },
   "file_extension": ".py",
   "mimetype": "text/x-python",
   "name": "python",
   "nbconvert_exporter": "python",
   "pygments_lexer": "ipython3",
   "version": "3.10.9"
  }
 },
 "nbformat": 4,
 "nbformat_minor": 5
}
